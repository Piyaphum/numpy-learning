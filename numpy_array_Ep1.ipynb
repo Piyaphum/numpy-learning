{
  "nbformat": 4,
  "nbformat_minor": 0,
  "metadata": {
    "colab": {
      "provenance": [],
      "authorship_tag": "ABX9TyOnW3aR5YXQvncd1x50S8N2",
      "include_colab_link": true
    },
    "kernelspec": {
      "name": "python3",
      "display_name": "Python 3"
    },
    "language_info": {
      "name": "python"
    }
  },
  "cells": [
    {
      "cell_type": "markdown",
      "metadata": {
        "id": "view-in-github",
        "colab_type": "text"
      },
      "source": [
        "<a href=\"https://colab.research.google.com/github/Piyaphum/numpy-learning/blob/main/numpy_array_Ep1.ipynb\" target=\"_parent\"><img src=\"https://colab.research.google.com/assets/colab-badge.svg\" alt=\"Open In Colab\"/></a>"
      ]
    },
    {
      "cell_type": "code",
      "execution_count": 1,
      "metadata": {
        "colab": {
          "base_uri": "https://localhost:8080/"
        },
        "id": "dI9S8crk0JiP",
        "outputId": "69db9a13-abe6-4477-b019-163c98ef3e1c"
      },
      "outputs": [
        {
          "output_type": "stream",
          "name": "stdout",
          "text": [
            "numpy version : 1.26.4\n"
          ]
        }
      ],
      "source": [
        "import numpy as np\n",
        "print(f\"numpy version : {np.__version__}\")"
      ]
    },
    {
      "cell_type": "markdown",
      "source": [
        "**หาค่าเฉลี่ย (Mean)** แบบวิธีดั้งเดิมและใช้ numpy\n"
      ],
      "metadata": {
        "id": "D1opA3JD1TrM"
      }
    },
    {
      "cell_type": "code",
      "source": [
        "# วิธีดั้งเดิม\n",
        "w1 = 10\n",
        "w2 = 20\n",
        "w3 = 30\n",
        "w4 = 40\n",
        "mean = w1 + w2 + w3 + w4 / 4\n",
        "print(f\"Mean = {mean}\")"
      ],
      "metadata": {
        "colab": {
          "base_uri": "https://localhost:8080/"
        },
        "id": "EUl3Pc5a1Jc0",
        "outputId": "59a36db1-ad83-4563-9d9e-c73d7512c066"
      },
      "execution_count": 2,
      "outputs": [
        {
          "output_type": "stream",
          "name": "stdout",
          "text": [
            "Mean = 70.0\n"
          ]
        }
      ]
    },
    {
      "cell_type": "code",
      "source": [
        "# วิธีแบบ numpy ใช้ np.sum, np.mean, np.std\n",
        "w = np.array([10, 20, 30 ,40])\n",
        "sum = np.sum(w)\n",
        "mean = np.mean(w)\n",
        "std = np.std(w)\n",
        "print(f'Sum : {sum}')\n",
        "print(f'Mean : {mean}')\n",
        "print(f'Standard Error : {std:.2f}')"
      ],
      "metadata": {
        "colab": {
          "base_uri": "https://localhost:8080/"
        },
        "id": "QEVhuAMN2p0-",
        "outputId": "7604e510-b2f6-4bad-fac6-ef3f4d9bf132"
      },
      "execution_count": 25,
      "outputs": [
        {
          "output_type": "stream",
          "name": "stdout",
          "text": [
            "Sum : 100\n",
            "Mean : 25.0\n",
            "Standard Error : 11.18\n"
          ]
        }
      ]
    },
    {
      "cell_type": "markdown",
      "source": [
        "คำนวณ BMI ด้วย **Numpy**"
      ],
      "metadata": {
        "id": "2t8b5cc53mJN"
      }
    },
    {
      "cell_type": "code",
      "source": [
        "import numpy as np\n",
        "\n",
        "weight = np.array([60, 70, 80, 90, 100])\n",
        "height = np.array([175, 180, 185, 190, 195])\n",
        "\n",
        "bmi = weight / (height / 100) ** 2\n",
        "for i, j in enumerate(bmi, start = 1) : #ใช้ enumerate เพื่อเข้าถึง index และ value (i, j) ใน loop ได้\n",
        "  print(f\"BMI of Student {i} is {j:.2f}\")"
      ],
      "metadata": {
        "colab": {
          "base_uri": "https://localhost:8080/"
        },
        "id": "EF3qp2Ri3ldF",
        "outputId": "481ecf45-38e7-42d2-a168-57cc286c258e"
      },
      "execution_count": 27,
      "outputs": [
        {
          "output_type": "stream",
          "name": "stdout",
          "text": [
            "BMI of Student 1 is 19.59\n",
            "BMI of Student 2 is 21.60\n",
            "BMI of Student 3 is 23.37\n",
            "BMI of Student 4 is 24.93\n",
            "BMI of Student 5 is 26.30\n"
          ]
        }
      ]
    },
    {
      "cell_type": "markdown",
      "source": [
        "จัดเรียงตัวเลข 0 ถึง 99 ด้วย **numpy**\n",
        "\n"
      ],
      "metadata": {
        "id": "Bjw61KFm6c6l"
      }
    },
    {
      "cell_type": "code",
      "source": [
        "# วิธีดั้งเดิม (List Comprehension)\n",
        "n = 100\n",
        "i = 0\n",
        "number = [i for i in range (n)]\n",
        "print(number)\n",
        "\n",
        "time = %timeit -n10 number"
      ],
      "metadata": {
        "colab": {
          "base_uri": "https://localhost:8080/"
        },
        "collapsed": true,
        "id": "mWT8QTeO6id7",
        "outputId": "e9a1d1f4-42e8-425a-9ab4-92b15cfc491f"
      },
      "execution_count": 46,
      "outputs": [
        {
          "output_type": "stream",
          "name": "stdout",
          "text": [
            "[0, 1, 2, 3, 4, 5, 6, 7, 8, 9, 10, 11, 12, 13, 14, 15, 16, 17, 18, 19, 20, 21, 22, 23, 24, 25, 26, 27, 28, 29, 30, 31, 32, 33, 34, 35, 36, 37, 38, 39, 40, 41, 42, 43, 44, 45, 46, 47, 48, 49, 50, 51, 52, 53, 54, 55, 56, 57, 58, 59, 60, 61, 62, 63, 64, 65, 66, 67, 68, 69, 70, 71, 72, 73, 74, 75, 76, 77, 78, 79, 80, 81, 82, 83, 84, 85, 86, 87, 88, 89, 90, 91, 92, 93, 94, 95, 96, 97, 98, 99]\n",
            "92.9 ns ± 34.2 ns per loop (mean ± std. dev. of 7 runs, 10 loops each)\n"
          ]
        }
      ]
    },
    {
      "cell_type": "code",
      "source": [
        "# วิธี numpy ใช้ np.arange\n",
        "n = 100\n",
        "number = np.arange(n)\n",
        "print(number)\n",
        "\n",
        "time = %timeit -n10 number\n",
        "print('\\nจะเห็นว่าการใช้ numpy จะได้การทำงานที่เร็วกว่า')"
      ],
      "metadata": {
        "colab": {
          "base_uri": "https://localhost:8080/"
        },
        "id": "x3EsJKkM60XI",
        "outputId": "6fe60d0c-940a-48b8-a580-609ba5480ee5"
      },
      "execution_count": 48,
      "outputs": [
        {
          "output_type": "stream",
          "name": "stdout",
          "text": [
            "[ 0  1  2  3  4  5  6  7  8  9 10 11 12 13 14 15 16 17 18 19 20 21 22 23\n",
            " 24 25 26 27 28 29 30 31 32 33 34 35 36 37 38 39 40 41 42 43 44 45 46 47\n",
            " 48 49 50 51 52 53 54 55 56 57 58 59 60 61 62 63 64 65 66 67 68 69 70 71\n",
            " 72 73 74 75 76 77 78 79 80 81 82 83 84 85 86 87 88 89 90 91 92 93 94 95\n",
            " 96 97 98 99]\n",
            "76.5 ns ± 25.7 ns per loop (mean ± std. dev. of 7 runs, 10 loops each)\n",
            "\n",
            "จะเห็นว่าการใช้ numpy จะได้การทำงานที่เร็วกว่า\n"
          ]
        }
      ]
    }
  ]
}